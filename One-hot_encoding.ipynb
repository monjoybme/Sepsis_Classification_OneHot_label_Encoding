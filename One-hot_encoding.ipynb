{
 "cells": [
  {
   "cell_type": "code",
   "execution_count": 51,
   "metadata": {},
   "outputs": [],
   "source": [
    "import numpy as np\n",
    "import pandas as pd\n",
    "from sklearn.feature_extraction.text import TfidfVectorizer\n",
    "pd.options.display.max_columns = 30\n",
    "import pandas as pd\n",
    "import seaborn as sns # used for plot interactive graph. \n",
    "import matplotlib.pyplot as plt\n",
    "from sklearn.model_selection import train_test_split\n",
    "from sklearn.naive_bayes import MultinomialNB\n",
    "from sklearn.linear_model import LogisticRegression\n",
    "from sklearn.ensemble import RandomForestClassifier\n",
    "from sklearn.svm import LinearSVC\n",
    "from sklearn.model_selection import cross_val_score\n",
    "from sklearn.metrics import confusion_matrix\n",
    "from sklearn import metrics"
   ]
  },
  {
   "cell_type": "code",
   "execution_count": 52,
   "metadata": {},
   "outputs": [
    {
     "data": {
      "text/plain": [
       "884"
      ]
     },
     "execution_count": 52,
     "metadata": {},
     "output_type": "execute_result"
    }
   ],
   "source": [
    "training_data = pd.read_csv(\"TRAINING-FINAL_25Jan2022.csv\",sep=',',header=0)\n",
    "testing_data = pd.read_csv(\"TESTING-FINAL_25Jan2022.csv\",sep=',',header=0)\n",
    "len(training_data)"
   ]
  },
  {
   "cell_type": "code",
   "execution_count": 53,
   "metadata": {},
   "outputs": [
    {
     "name": "stdout",
     "output_type": "stream",
     "text": [
      "       Encounter  Gender_Female  Gender_Male  Race_African American  or Black  \\\n",
      "0       57304086              1            0                                0   \n",
      "1       59464001              0            1                                0   \n",
      "2      306885119              1            0                                1   \n",
      "3      843895334              1            0                                1   \n",
      "4      964184337              0            1                                1   \n",
      "..           ...            ...          ...                              ...   \n",
      "879  43280473142              0            1                                1   \n",
      "880  43600834323              0            1                                0   \n",
      "881  44604273292              0            1                                1   \n",
      "882  46328314129              0            1                                0   \n",
      "883  46642834260              1            0                                0   \n",
      "\n",
      "     Race_American Indian or Alaskan Native  Race_Asian  \\\n",
      "0                                         0           0   \n",
      "1                                         0           0   \n",
      "2                                         0           0   \n",
      "3                                         0           0   \n",
      "4                                         0           0   \n",
      "..                                      ...         ...   \n",
      "879                                       0           0   \n",
      "880                                       0           0   \n",
      "881                                       0           0   \n",
      "882                                       0           0   \n",
      "883                                       0           0   \n",
      "\n",
      "     Race_Caucasian or White  Race_Hispanic  Race_Multiple  Race_Unknown  \\\n",
      "0                          1              0              0             0   \n",
      "1                          1              0              0             0   \n",
      "2                          0              0              0             0   \n",
      "3                          0              0              0             0   \n",
      "4                          0              0              0             0   \n",
      "..                       ...            ...            ...           ...   \n",
      "879                        0              0              0             0   \n",
      "880                        1              0              0             0   \n",
      "881                        0              0              0             0   \n",
      "882                        1              0              0             0   \n",
      "883                        1              0              0             0   \n",
      "\n",
      "     Ethnic Group_Hispanic or Latino  Ethnic Group_Non-Hispanic or Latino  \\\n",
      "0                                  1                                    0   \n",
      "1                                  0                                    1   \n",
      "2                                  0                                    1   \n",
      "3                                  0                                    1   \n",
      "4                                  0                                    1   \n",
      "..                               ...                                  ...   \n",
      "879                                0                                    0   \n",
      "880                                0                                    1   \n",
      "881                                0                                    1   \n",
      "882                                0                                    1   \n",
      "883                                0                                    1   \n",
      "\n",
      "     Ethnic Group_Not Recorded  Ethnic Group_Unknown~Non-Hispanic  \\\n",
      "0                            0                                  0   \n",
      "1                            0                                  0   \n",
      "2                            0                                  0   \n",
      "3                            0                                  0   \n",
      "4                            0                                  0   \n",
      "..                         ...                                ...   \n",
      "879                          0                                  0   \n",
      "880                          0                                  0   \n",
      "881                          0                                  0   \n",
      "882                          0                                  0   \n",
      "883                          0                                  0   \n",
      "\n",
      "     Ethnic Group_Unknown  ...       Reason9      Reason10      Reason11  \\\n",
      "0                       0  ...  2.230000e-03 -1.370000e-03  2.210000e-03   \n",
      "1                       0  ... -3.720000e-06 -6.840000e-06  1.940000e-05   \n",
      "2                       0  ...  3.150000e-01 -7.670000e-02  4.840000e-03   \n",
      "3                       0  ... -2.780000e-02  3.020000e-02 -3.840000e-03   \n",
      "4                       0  ... -1.040000e-01  2.470000e-02 -2.000000e-03   \n",
      "..                    ...  ...           ...           ...           ...   \n",
      "879                     1  ... -4.090000e-04  6.370000e-01  7.030000e-01   \n",
      "880                     0  ...  1.220000e-19  4.470000e-19  7.540000e-19   \n",
      "881                     0  ...  3.230000e-04 -8.030000e-05  2.210000e-04   \n",
      "882                     0  ...  9.290000e-04  2.920000e-02 -1.860000e-02   \n",
      "883                     0  ...  1.220000e-19  4.470000e-19  7.540000e-19   \n",
      "\n",
      "         Reason12      Reason13      Reason14      Reason15      Reason16  \\\n",
      "0    5.500000e-02 -1.620000e-01  6.550000e-02 -3.040000e-01 -3.040000e-03   \n",
      "1   -3.300000e-05 -1.260000e-04 -7.580000e-05 -3.480000e-06 -6.080000e-06   \n",
      "2   -6.970000e-04  4.960000e-03  5.310000e-03 -8.430000e-02  3.640000e-02   \n",
      "3    6.220000e-03  3.230000e-02 -9.870000e-03 -3.440000e-02  5.090000e-01   \n",
      "4    2.630000e-03 -1.500000e-02  3.190000e-03 -5.350000e-03 -8.180000e-03   \n",
      "..            ...           ...           ...           ...           ...   \n",
      "879  7.360000e-04  6.990000e-04  2.890000e-04 -7.910000e-04 -8.640000e-03   \n",
      "880 -7.720000e-19  3.700000e-19  4.260000e-19 -1.860000e-18  7.620000e-19   \n",
      "881 -3.010000e-04 -4.780000e-05  1.750000e-04  6.800000e-04 -4.990000e-04   \n",
      "882 -4.630000e-03 -5.450000e-03  1.480000e-02  8.990000e-03  7.230000e-02   \n",
      "883 -7.720000e-19  3.700000e-19  4.260000e-19 -1.860000e-18  7.620000e-19   \n",
      "\n",
      "         Reason17      Reason18      Reason19      Reason20  Class  Age  \\\n",
      "0    9.610000e-03 -4.820000e-02 -6.180000e-02 -3.360000e-02      0   59   \n",
      "1   -9.760000e-06  3.080000e-04 -5.720000e-05  7.290000e-05      0   75   \n",
      "2    6.160000e-02 -1.740000e-01  7.970000e-01 -6.290000e-02      0   79   \n",
      "3    8.190000e-02  4.940000e-02 -1.330000e-02  6.670000e-02      0   45   \n",
      "4   -1.310000e-02  1.700000e-03 -1.440000e-01  3.190000e-02      0   55   \n",
      "..            ...           ...           ...           ...    ...  ...   \n",
      "879 -5.840000e-03 -1.540000e-03 -5.910000e-03  2.620000e-02      1   65   \n",
      "880  1.100000e-18  1.460000e-18  2.510000e-18  8.600000e-20      1   33   \n",
      "881 -5.740000e-03  4.830000e-04  1.110000e-03  8.830000e-05      1   23   \n",
      "882 -8.380000e-02 -3.640000e-02 -3.140000e-01  1.480000e-01      1   82   \n",
      "883  1.100000e-18  1.460000e-18  2.510000e-18  8.600000e-20      1   62   \n",
      "\n",
      "     Age_bins  \n",
      "0           3  \n",
      "1           3  \n",
      "2           3  \n",
      "3           2  \n",
      "4           2  \n",
      "..        ...  \n",
      "879         3  \n",
      "880         1  \n",
      "881         1  \n",
      "882         3  \n",
      "883         3  \n",
      "\n",
      "[884 rows x 38 columns]\n"
     ]
    }
   ],
   "source": [
    "# For training Data\n",
    "bins = [0,15,35,55,96]\n",
    "labels=[0,1,2,3]\n",
    "training_data['Age_bins'] = pd.cut(training_data['Age'], bins=bins, labels=labels, include_lowest=True)\n",
    "print (training_data)"
   ]
  },
  {
   "cell_type": "code",
   "execution_count": 54,
   "metadata": {},
   "outputs": [
    {
     "name": "stdout",
     "output_type": "stream",
     "text": [
      "      Encounter  Gender_Female  Gender_Male  Race_African American  or Black  \\\n",
      "0     892774098              1            0                                1   \n",
      "1    1930374269              0            1                                1   \n",
      "2    9446413161              0            1                                0   \n",
      "3   13728583178              1            0                                0   \n",
      "4   14848513300              0            1                                0   \n",
      "..          ...            ...          ...                              ...   \n",
      "75   5394323197              0            1                                0   \n",
      "76   9708665343              1            0                                1   \n",
      "77  12060044116              0            1                                0   \n",
      "78  12341515134              0            1                                0   \n",
      "79  12377103213              1            0                                1   \n",
      "\n",
      "    Race_American Indian or Alaskan Native  Race_Asian  \\\n",
      "0                                        0           0   \n",
      "1                                        0           0   \n",
      "2                                        0           0   \n",
      "3                                        0           0   \n",
      "4                                        0           1   \n",
      "..                                     ...         ...   \n",
      "75                                       0           0   \n",
      "76                                       0           0   \n",
      "77                                       0           0   \n",
      "78                                       0           0   \n",
      "79                                       0           0   \n",
      "\n",
      "    Race_Caucasian or White  Race_Hispanic  Race_Multiple  Race_Unknown  \\\n",
      "0                         0              0              0             0   \n",
      "1                         0              0              0             0   \n",
      "2                         1              0              0             0   \n",
      "3                         0              0              0             1   \n",
      "4                         0              0              0             0   \n",
      "..                      ...            ...            ...           ...   \n",
      "75                        1              0              0             0   \n",
      "76                        0              0              0             0   \n",
      "77                        1              0              0             0   \n",
      "78                        1              0              0             0   \n",
      "79                        0              0              0             0   \n",
      "\n",
      "    Ethnic Group_Hispanic or Latino  Ethnic Group_Non-Hispanic or Latino  \\\n",
      "0                                 0                                    0   \n",
      "1                                 0                                    0   \n",
      "2                                 0                                    1   \n",
      "3                                 0                                    0   \n",
      "4                                 0                                    1   \n",
      "..                              ...                                  ...   \n",
      "75                                0                                    0   \n",
      "76                                0                                    1   \n",
      "77                                0                                    0   \n",
      "78                                0                                    1   \n",
      "79                                0                                    1   \n",
      "\n",
      "    Ethnic Group_Not Recorded  Ethnic Group_Unknown~Non-Hispanic  \\\n",
      "0                           0                                  0   \n",
      "1                           1                                  0   \n",
      "2                           0                                  0   \n",
      "3                           0                                  0   \n",
      "4                           0                                  0   \n",
      "..                        ...                                ...   \n",
      "75                          0                                  0   \n",
      "76                          0                                  0   \n",
      "77                          0                                  0   \n",
      "78                          0                                  0   \n",
      "79                          0                                  0   \n",
      "\n",
      "    Ethnic Group_Unknown  ...       Reason9      Reason10      Reason11  \\\n",
      "0                      1  ... -3.330000e-16  6.620000e-16 -1.090000e-16   \n",
      "1                      0  ... -5.550000e-16  4.400000e-16  1.090000e-16   \n",
      "2                      0  ...  2.570000e-18 -2.600000e-18 -1.500000e-18   \n",
      "3                      1  ...  5.650000e-06 -4.640000e-06  5.730000e-05   \n",
      "4                      0  ... -8.250000e-05 -1.580000e-04 -2.060000e-03   \n",
      "..                   ...  ...           ...           ...           ...   \n",
      "75                     1  ...  1.220000e-19  4.470000e-19  7.540000e-19   \n",
      "76                     0  ...  1.220000e-19  4.470000e-19  7.540000e-19   \n",
      "77                     1  ...  1.220000e-19  4.470000e-19  7.540000e-19   \n",
      "78                     0  ...  1.220000e-19  4.470000e-19  7.540000e-19   \n",
      "79                     0  ...  1.220000e-19  4.470000e-19  7.540000e-19   \n",
      "\n",
      "        Reason12      Reason13      Reason14      Reason15      Reason16  \\\n",
      "0   9.510000e-17  3.920000e-16  3.120000e-16  3.650000e-16 -3.330000e-16   \n",
      "1  -3.460000e-16 -1.880000e-16  1.990000e-16 -5.260000e-16 -9.010000e-17   \n",
      "2  -9.150000e-19 -3.930000e-18  1.850000e-18  3.860000e-18  1.220000e-18   \n",
      "3   6.760000e-05  8.390000e-05  9.380000e-08  6.140000e-05  6.440000e-05   \n",
      "4  -2.770000e-03 -1.360000e-03 -2.200000e-03 -9.040000e-04 -7.080000e-03   \n",
      "..           ...           ...           ...           ...           ...   \n",
      "75 -7.720000e-19  3.700000e-19  4.260000e-19 -1.860000e-18  7.620000e-19   \n",
      "76 -7.720000e-19  3.700000e-19  4.260000e-19 -1.860000e-18  7.620000e-19   \n",
      "77 -7.720000e-19  3.700000e-19  4.260000e-19 -1.860000e-18  7.620000e-19   \n",
      "78 -7.720000e-19  3.700000e-19  4.260000e-19 -1.860000e-18  7.620000e-19   \n",
      "79 -7.720000e-19  3.700000e-19  4.260000e-19 -1.860000e-18  7.620000e-19   \n",
      "\n",
      "        Reason17      Reason18      Reason19      Reason20  Class  Age  \\\n",
      "0  -1.950000e-16  1.270000e-16 -2.100000e-16 -8.340000e-17      0   61   \n",
      "1  -1.570000e-16  3.340000e-16  2.190000e-16  8.180000e-17      0   77   \n",
      "2  -1.240000e-18 -1.650000e-18  5.100000e-18 -6.780000e-18      0   61   \n",
      "3   3.190000e-04  2.160000e-04 -1.540000e-06 -4.370000e-04      0   32   \n",
      "4  -5.350000e-04  2.630000e-03 -7.710000e-04  2.310000e-03      0   65   \n",
      "..           ...           ...           ...           ...    ...  ...   \n",
      "75  1.100000e-18  1.460000e-18  2.510000e-18  8.600000e-20      1   76   \n",
      "76  1.100000e-18  1.460000e-18  2.510000e-18  8.600000e-20      1   58   \n",
      "77  1.100000e-18  1.460000e-18  2.510000e-18  8.600000e-20      1   76   \n",
      "78  1.100000e-18  1.460000e-18  2.510000e-18  8.600000e-20      1   36   \n",
      "79  1.100000e-18  1.460000e-18  2.510000e-18  8.600000e-20      1   29   \n",
      "\n",
      "    Age_bins  \n",
      "0          3  \n",
      "1          3  \n",
      "2          3  \n",
      "3          1  \n",
      "4          3  \n",
      "..       ...  \n",
      "75         3  \n",
      "76         3  \n",
      "77         3  \n",
      "78         2  \n",
      "79         1  \n",
      "\n",
      "[80 rows x 38 columns]\n"
     ]
    }
   ],
   "source": [
    "# For Testing Data\n",
    "bins = [0,15,35,55,96]\n",
    "labels=[0,1,2,3]\n",
    "testing_data['Age_bins'] = pd.cut(testing_data['Age'], bins=bins, labels=labels, include_lowest=True)\n",
    "print (testing_data)"
   ]
  },
  {
   "cell_type": "code",
   "execution_count": 55,
   "metadata": {},
   "outputs": [
    {
     "name": "stdout",
     "output_type": "stream",
     "text": [
      "        Encounter  Gender_Female  Gender_Male  \\\n",
      "0    5.730409e+07            1.0          0.0   \n",
      "1    5.946400e+07            0.0          1.0   \n",
      "2    3.068851e+08            1.0          0.0   \n",
      "3    8.438953e+08            1.0          0.0   \n",
      "4    9.641843e+08            0.0          1.0   \n",
      "..            ...            ...          ...   \n",
      "879  4.328047e+10            0.0          1.0   \n",
      "880  4.360083e+10            0.0          1.0   \n",
      "881  4.460427e+10            0.0          1.0   \n",
      "882  4.632831e+10            0.0          1.0   \n",
      "883  4.664283e+10            1.0          0.0   \n",
      "\n",
      "     Race_African American  or Black  Race_American Indian or Alaskan Native  \\\n",
      "0                                0.0                                     0.0   \n",
      "1                                0.0                                     0.0   \n",
      "2                                1.0                                     0.0   \n",
      "3                                1.0                                     0.0   \n",
      "4                                1.0                                     0.0   \n",
      "..                               ...                                     ...   \n",
      "879                              1.0                                     0.0   \n",
      "880                              0.0                                     0.0   \n",
      "881                              1.0                                     0.0   \n",
      "882                              0.0                                     0.0   \n",
      "883                              0.0                                     0.0   \n",
      "\n",
      "     Race_Asian  Race_Caucasian or White  Race_Hispanic  Race_Multiple  \\\n",
      "0           0.0                      1.0            0.0            0.0   \n",
      "1           0.0                      1.0            0.0            0.0   \n",
      "2           0.0                      0.0            0.0            0.0   \n",
      "3           0.0                      0.0            0.0            0.0   \n",
      "4           0.0                      0.0            0.0            0.0   \n",
      "..          ...                      ...            ...            ...   \n",
      "879         0.0                      0.0            0.0            0.0   \n",
      "880         0.0                      1.0            0.0            0.0   \n",
      "881         0.0                      0.0            0.0            0.0   \n",
      "882         0.0                      1.0            0.0            0.0   \n",
      "883         0.0                      1.0            0.0            0.0   \n",
      "\n",
      "     Race_Unknown  Ethnic Group_Hispanic or Latino  \\\n",
      "0             0.0                              1.0   \n",
      "1             0.0                              0.0   \n",
      "2             0.0                              0.0   \n",
      "3             0.0                              0.0   \n",
      "4             0.0                              0.0   \n",
      "..            ...                              ...   \n",
      "879           0.0                              0.0   \n",
      "880           0.0                              0.0   \n",
      "881           0.0                              0.0   \n",
      "882           0.0                              0.0   \n",
      "883           0.0                              0.0   \n",
      "\n",
      "     Ethnic Group_Non-Hispanic or Latino  Ethnic Group_Not Recorded  \\\n",
      "0                                    0.0                        0.0   \n",
      "1                                    1.0                        0.0   \n",
      "2                                    1.0                        0.0   \n",
      "3                                    1.0                        0.0   \n",
      "4                                    1.0                        0.0   \n",
      "..                                   ...                        ...   \n",
      "879                                  0.0                        0.0   \n",
      "880                                  1.0                        0.0   \n",
      "881                                  1.0                        0.0   \n",
      "882                                  1.0                        0.0   \n",
      "883                                  1.0                        0.0   \n",
      "\n",
      "     Ethnic Group_Unknown~Non-Hispanic  Ethnic Group_Unknown  ...  \\\n",
      "0                                  0.0                   0.0  ...   \n",
      "1                                  0.0                   0.0  ...   \n",
      "2                                  0.0                   0.0  ...   \n",
      "3                                  0.0                   0.0  ...   \n",
      "4                                  0.0                   0.0  ...   \n",
      "..                                 ...                   ...  ...   \n",
      "879                                0.0                   1.0  ...   \n",
      "880                                0.0                   0.0  ...   \n",
      "881                                0.0                   0.0  ...   \n",
      "882                                0.0                   0.0  ...   \n",
      "883                                0.0                   0.0  ...   \n",
      "\n",
      "          Reason9      Reason10      Reason11      Reason12      Reason13  \\\n",
      "0    2.230000e-03 -1.370000e-03  2.210000e-03  5.500000e-02 -1.620000e-01   \n",
      "1   -3.720000e-06 -6.840000e-06  1.940000e-05 -3.300000e-05 -1.260000e-04   \n",
      "2    3.150000e-01 -7.670000e-02  4.840000e-03 -6.970000e-04  4.960000e-03   \n",
      "3   -2.780000e-02  3.020000e-02 -3.840000e-03  6.220000e-03  3.230000e-02   \n",
      "4   -1.040000e-01  2.470000e-02 -2.000000e-03  2.630000e-03 -1.500000e-02   \n",
      "..            ...           ...           ...           ...           ...   \n",
      "879 -4.090000e-04  6.370000e-01  7.030000e-01  7.360000e-04  6.990000e-04   \n",
      "880  1.220000e-19  4.470000e-19  7.540000e-19 -7.720000e-19  3.700000e-19   \n",
      "881  3.230000e-04 -8.030000e-05  2.210000e-04 -3.010000e-04 -4.780000e-05   \n",
      "882  9.290000e-04  2.920000e-02 -1.860000e-02 -4.630000e-03 -5.450000e-03   \n",
      "883  1.220000e-19  4.470000e-19  7.540000e-19 -7.720000e-19  3.700000e-19   \n",
      "\n",
      "         Reason14      Reason15      Reason16      Reason17      Reason18  \\\n",
      "0    6.550000e-02 -3.040000e-01 -3.040000e-03  9.610000e-03 -4.820000e-02   \n",
      "1   -7.580000e-05 -3.480000e-06 -6.080000e-06 -9.760000e-06  3.080000e-04   \n",
      "2    5.310000e-03 -8.430000e-02  3.640000e-02  6.160000e-02 -1.740000e-01   \n",
      "3   -9.870000e-03 -3.440000e-02  5.090000e-01  8.190000e-02  4.940000e-02   \n",
      "4    3.190000e-03 -5.350000e-03 -8.180000e-03 -1.310000e-02  1.700000e-03   \n",
      "..            ...           ...           ...           ...           ...   \n",
      "879  2.890000e-04 -7.910000e-04 -8.640000e-03 -5.840000e-03 -1.540000e-03   \n",
      "880  4.260000e-19 -1.860000e-18  7.620000e-19  1.100000e-18  1.460000e-18   \n",
      "881  1.750000e-04  6.800000e-04 -4.990000e-04 -5.740000e-03  4.830000e-04   \n",
      "882  1.480000e-02  8.990000e-03  7.230000e-02 -8.380000e-02 -3.640000e-02   \n",
      "883  4.260000e-19 -1.860000e-18  7.620000e-19  1.100000e-18  1.460000e-18   \n",
      "\n",
      "         Reason19      Reason20  Class   Age  Age_bins  \n",
      "0   -6.180000e-02 -3.360000e-02    0.0  59.0       3.0  \n",
      "1   -5.720000e-05  7.290000e-05    0.0  75.0       3.0  \n",
      "2    7.970000e-01 -6.290000e-02    0.0  79.0       3.0  \n",
      "3   -1.330000e-02  6.670000e-02    0.0  45.0       2.0  \n",
      "4   -1.440000e-01  3.190000e-02    0.0  55.0       2.0  \n",
      "..            ...           ...    ...   ...       ...  \n",
      "879 -5.910000e-03  2.620000e-02    1.0  65.0       3.0  \n",
      "880  2.510000e-18  8.600000e-20    1.0  33.0       1.0  \n",
      "881  1.110000e-03  8.830000e-05    1.0  23.0       1.0  \n",
      "882 -3.140000e-01  1.480000e-01    1.0  82.0       3.0  \n",
      "883  2.510000e-18  8.600000e-20    1.0  62.0       3.0  \n",
      "\n",
      "[883 rows x 38 columns]\n"
     ]
    }
   ],
   "source": [
    "def clean_dataset(df):\n",
    "    assert isinstance(df, pd.DataFrame), \"df needs to be a pd.DataFrame\"\n",
    "    df.dropna(inplace=True)\n",
    "    indices_to_keep = ~df.isin([np.nan, np.inf, -np.inf]).any(1)\n",
    "    return df[indices_to_keep].astype(np.float64)\n",
    "\n",
    "training_data = clean_dataset(training_data)\n",
    "testing_data = clean_dataset(testing_data)\n",
    "print (training_data)"
   ]
  },
  {
   "cell_type": "code",
   "execution_count": 56,
   "metadata": {},
   "outputs": [],
   "source": [
    "# Save fresh \"training_data\" and \"testing_data\" data after cleaning\n",
    "#training_data.to_csv(\"3_cleaned_training_testing_data_after_scoring/training_data.csv\")\n",
    "#testing_data.to_csv(\"3_cleaned_training_testing_data_after_scoring/testing_data.csv\")"
   ]
  },
  {
   "cell_type": "code",
   "execution_count": 57,
   "metadata": {},
   "outputs": [],
   "source": [
    "X_train = training_data[['Gender_Female','Gender_Male','Race_African American  or Black','Race_American Indian or Alaskan Native','Race_Asian','Race_Caucasian or White','Race_Hispanic','Race_Multiple','Race_Unknown', 'Ethnic Group_Hispanic or Latino','Ethnic Group_Non-Hispanic or Latino','Ethnic Group_Not Recorded','Ethnic Group_Unknown~Non-Hispanic','Ethnic Group_Unknown','Age_bins', 'Reason1','Reason2','Reason3','Reason4','Reason5','Reason6',\n",
    "        'Reason7','Reason8','Reason9','Reason10','Reason11','Reason12', 'Reason13','Reason14','Reason15','Reason16',\n",
    "         'Reason17','Reason18', 'Reason19','Reason20']]\n",
    "#X_train = training_data[['Gender','Race','Ethnic Group','Age_bins']]\n",
    "y_train = training_data['Class']\n",
    "X_test = testing_data[['Gender_Female','Gender_Male','Race_African American  or Black','Race_American Indian or Alaskan Native','Race_Asian','Race_Caucasian or White','Race_Hispanic','Race_Multiple','Race_Unknown', 'Ethnic Group_Hispanic or Latino','Ethnic Group_Non-Hispanic or Latino','Ethnic Group_Not Recorded','Ethnic Group_Unknown~Non-Hispanic','Ethnic Group_Unknown','Age_bins', 'Reason1','Reason2','Reason3','Reason4','Reason5','Reason6',\n",
    "        'Reason7','Reason8','Reason9','Reason10','Reason11','Reason12', 'Reason13','Reason14','Reason15','Reason16',\n",
    "         'Reason17','Reason18', 'Reason19','Reason20']]\n",
    "#X_test = testing_data[['Gender','Race','Ethnic Group','Age_bins']]\n",
    "y_test = testing_data['Class']"
   ]
  },
  {
   "cell_type": "code",
   "execution_count": 58,
   "metadata": {},
   "outputs": [],
   "source": [
    "models = [\n",
    "    RandomForestClassifier(n_estimators=100, max_depth=30, random_state=391),\n",
    "    LinearSVC(),\n",
    "    LogisticRegression(random_state=45)]\n",
    "\n",
    "# 10 fold Cross-validation\n",
    "CV = 10\n",
    "cv_df = pd.DataFrame(index=range(CV * len(models)))\n",
    "\n",
    "entries = []\n",
    "for model in models:\n",
    "  model_name = model.__class__.__name__\n",
    "  accuracies = cross_val_score(model, X_train, y_train, scoring='accuracy', cv=CV)\n",
    "  for fold_idx, accuracy in enumerate(accuracies):\n",
    "    entries.append((model_name, fold_idx, accuracy))\n",
    "    \n",
    "cv_df = pd.DataFrame(entries, columns=['model_name', 'fold_idx', 'accuracy'])"
   ]
  },
  {
   "cell_type": "code",
   "execution_count": 59,
   "metadata": {
    "scrolled": true
   },
   "outputs": [
    {
     "data": {
      "text/html": [
       "<div>\n",
       "<style scoped>\n",
       "    .dataframe tbody tr th:only-of-type {\n",
       "        vertical-align: middle;\n",
       "    }\n",
       "\n",
       "    .dataframe tbody tr th {\n",
       "        vertical-align: top;\n",
       "    }\n",
       "\n",
       "    .dataframe thead th {\n",
       "        text-align: right;\n",
       "    }\n",
       "</style>\n",
       "<table border=\"1\" class=\"dataframe\">\n",
       "  <thead>\n",
       "    <tr style=\"text-align: right;\">\n",
       "      <th></th>\n",
       "      <th>Mean Accuracy</th>\n",
       "      <th>Standard deviation</th>\n",
       "    </tr>\n",
       "    <tr>\n",
       "      <th>model_name</th>\n",
       "      <th></th>\n",
       "      <th></th>\n",
       "    </tr>\n",
       "  </thead>\n",
       "  <tbody>\n",
       "    <tr>\n",
       "      <th>LinearSVC</th>\n",
       "      <td>0.535700</td>\n",
       "      <td>0.053710</td>\n",
       "    </tr>\n",
       "    <tr>\n",
       "      <th>LogisticRegression</th>\n",
       "      <td>0.542441</td>\n",
       "      <td>0.049618</td>\n",
       "    </tr>\n",
       "    <tr>\n",
       "      <th>RandomForestClassifier</th>\n",
       "      <td>0.752962</td>\n",
       "      <td>0.072465</td>\n",
       "    </tr>\n",
       "  </tbody>\n",
       "</table>\n",
       "</div>"
      ],
      "text/plain": [
       "                        Mean Accuracy  Standard deviation\n",
       "model_name                                               \n",
       "LinearSVC                    0.535700            0.053710\n",
       "LogisticRegression           0.542441            0.049618\n",
       "RandomForestClassifier       0.752962            0.072465"
      ]
     },
     "execution_count": 59,
     "metadata": {},
     "output_type": "execute_result"
    }
   ],
   "source": [
    "mean_accuracy = cv_df.groupby('model_name').accuracy.mean()\n",
    "std_accuracy = cv_df.groupby('model_name').accuracy.std()\n",
    "\n",
    "acc = pd.concat([mean_accuracy, std_accuracy], axis= 1, \n",
    "          ignore_index=True)\n",
    "acc.columns = ['Mean Accuracy', 'Standard deviation']\n",
    "acc"
   ]
  },
  {
   "cell_type": "markdown",
   "metadata": {},
   "source": [
    "# Box Plot"
   ]
  },
  {
   "cell_type": "code",
   "execution_count": 60,
   "metadata": {},
   "outputs": [
    {
     "data": {
      "image/png": "[encoded data removed]",
      "text/plain": [
       "<Figure size 576x360 with 1 Axes>"
      ]
     },
     "metadata": {
      "needs_background": "light"
     },
     "output_type": "display_data"
    }
   ],
   "source": [
    "plt.figure(figsize=(8,5))\n",
    "sns.boxplot(x='model_name', y='accuracy', \n",
    "            data=cv_df, \n",
    "            color='lightblue', \n",
    "            showmeans=True)\n",
    "plt.title(\"MEAN ACCURACY (cv = 10)\\n\", size=14);"
   ]
  },
  {
   "cell_type": "code",
   "execution_count": 61,
   "metadata": {},
   "outputs": [],
   "source": [
    "# Save raw results Box Plot\n",
    "cv_df.to_csv(\"Sensor_data_demographic_comorbidity_box_plot.csv\")"
   ]
  },
  {
   "cell_type": "code",
   "execution_count": 62,
   "metadata": {},
   "outputs": [
    {
     "data": {
      "text/plain": [
       "array([0., 0., 0., 0., 0., 0., 1., 0., 0., 0., 0., 0., 0., 0., 1., 0., 0.,\n",
       "       0., 0., 0., 0., 0., 1., 1., 0., 0., 0., 0., 0., 0., 0., 0., 0., 0.,\n",
       "       0., 0., 0., 0., 0., 0., 1., 0., 1., 1., 1., 1., 1., 1., 0., 0., 1.,\n",
       "       0., 1., 1., 1., 1., 0., 1., 0., 1., 1., 1., 1., 0., 1., 1., 1., 1.,\n",
       "       1., 1., 0., 1., 0., 0., 0., 0., 1., 0., 0., 0.])"
      ]
     },
     "execution_count": 62,
     "metadata": {},
     "output_type": "execute_result"
    }
   ],
   "source": [
    "#model = LinearSVC()\n",
    "#model = LogisticRegression(random_state=45)\n",
    "model = RandomForestClassifier(n_estimators=100, max_depth=30, random_state=0)\n",
    "model.fit(X_train, y_train)\n",
    "y_pred = model.predict(X_test)\n",
    "y_pred"
   ]
  },
  {
   "cell_type": "markdown",
   "metadata": {},
   "source": [
    "# Confusion Matrix"
   ]
  },
  {
   "cell_type": "code",
   "execution_count": 63,
   "metadata": {},
   "outputs": [
    {
     "data": {
      "image/png": "[encoded data removed]",
      "text/plain": [
       "<Figure size 576x576 with 2 Axes>"
      ]
     },
     "metadata": {
      "needs_background": "light"
     },
     "output_type": "display_data"
    }
   ],
   "source": [
    "conf_mat = confusion_matrix(y_test, y_pred)\n",
    "fig, ax = plt.subplots(figsize=(8,8))\n",
    "sns.heatmap(conf_mat, annot=True, cmap=\"Blues\", fmt='d')\n",
    "plt.ylabel('Actual')\n",
    "plt.xlabel('Predicted')\n",
    "#plt.title(\"CONFUSION MATRIX - Logistic Regression\\n\", size=16);\n",
    "plt.title(\"CONFUSION MATRIX - Random Forest \\n\", size=16);"
   ]
  },
  {
   "cell_type": "code",
   "execution_count": 64,
   "metadata": {},
   "outputs": [],
   "source": [
    "# Save raw results Confusion Matrix\n",
    "conf_scores_csv = pd.DataFrame({\"y_test\" : y_test, \"y_pred\" : y_pred})\n",
    "conf_scores_csv.to_csv(\"Sensor_data_classification_demographic_comorbidity.csv\", index=False)"
   ]
  },
  {
   "cell_type": "markdown",
   "metadata": {},
   "source": [
    "# Classification Report"
   ]
  },
  {
   "cell_type": "code",
   "execution_count": 65,
   "metadata": {},
   "outputs": [
    {
     "name": "stdout",
     "output_type": "stream",
     "text": [
      "              precision    recall  f1-score   support\n",
      "\n",
      "      Sepsis       0.71      0.90      0.79        40\n",
      "   NonSepsis       0.86      0.62      0.72        40\n",
      "\n",
      "    accuracy                           0.76        80\n",
      "   macro avg       0.78      0.76      0.76        80\n",
      "weighted avg       0.78      0.76      0.76        80\n",
      "\n"
     ]
    }
   ],
   "source": [
    "from sklearn.metrics import classification_report\n",
    "target_names = ['Sepsis', 'NonSepsis']\n",
    "print(classification_report(y_test, y_pred, target_names=target_names))"
   ]
  },
  {
   "cell_type": "code",
   "execution_count": 69,
   "metadata": {},
   "outputs": [],
   "source": [
    "# For Random Forest and Logistoc Regression\n",
    "Pred_score = model.predict_proba(X_train)\n",
    "len(Pred_score)\n",
    "res = pd.DataFrame(Pred_score)\n",
    "res.index = X_train.index # its important for comparison\n",
    "res.columns = [\"Sepsis\",\"Non-Sepsis\"]\n",
    "res.to_csv(\"Sensor_data_Train_scores_demographic_comorbidity.csv\")\n",
    "#res.to_csv(\"lateFusion_results_4hr_36000samples_1Dec.csv\")"
   ]
  },
  {
   "cell_type": "code",
   "execution_count": 70,
   "metadata": {},
   "outputs": [],
   "source": [
    "# For Random Forest and Logistoc Regression\n",
    "Pred_score = model.predict_proba(X_test)\n",
    "len(Pred_score)\n",
    "res = pd.DataFrame(Pred_score)\n",
    "res.index = X_test.index # its important for comparison\n",
    "res.columns = [\"Sepsis\",\"Non-Sepsis\"]\n",
    "res.to_csv(\"Sensor_data_Test_scores_demographic_comorbidity.csv\")\n",
    "#res.to_csv(\"lateFusion_results_4hr_36000samples_1Dec.csv\")"
   ]
  },
  {
   "cell_type": "code",
   "execution_count": 71,
   "metadata": {},
   "outputs": [
    {
     "name": "stdout",
     "output_type": "stream",
     "text": [
      "80\n"
     ]
    }
   ],
   "source": [
    "#For Linear SVC\n",
    "from sklearn import svm\n",
    "clf=svm.LinearSVC()\n",
    "clf.fit(X_train, y_train)\n",
    "Pred_score= clf._predict_proba_lr(X_test)\n",
    "print(len(Pred_score))\n",
    "res = pd.DataFrame(Pred_score)\n",
    "res.index = X_test.index # its important for comparison\n",
    "res.columns = [\"Sepsis_monjoy\",\"Non-Sepsis_monjoy\"]\n",
    "res.to_csv(\"lateFusion_results_6hr_17Dec.csv\")\n",
    "#res.to_csv(\"lateFusion_results_4hr_9000samples_1Dec.csv\")"
   ]
  }
 ],
 "metadata": {
  "kernelspec": {
   "display_name": "Python 3 (ipykernel)",
   "language": "python",
   "name": "python3"
  },
  "language_info": {
   "codemirror_mode": {
    "name": "ipython",
    "version": 3
   },
   "file_extension": ".py",
   "mimetype": "text/x-python",
   "name": "python",
   "nbconvert_exporter": "python",
   "pygments_lexer": "ipython3",
   "version": "3.8.2"
  }
 },
 "nbformat": 4,
 "nbformat_minor": 2
}
