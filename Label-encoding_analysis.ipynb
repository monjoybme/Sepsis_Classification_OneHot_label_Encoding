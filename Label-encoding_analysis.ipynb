{
 "cells": [
  {
   "cell_type": "code",
   "execution_count": 165,
   "metadata": {},
   "outputs": [],
   "source": [
    "import numpy as np\n",
    "import pandas as pd\n",
    "from sklearn.feature_extraction.text import TfidfVectorizer\n",
    "pd.options.display.max_columns = 30\n",
    "import pandas as pd\n",
    "import seaborn as sns # used for plot interactive graph. \n",
    "import matplotlib.pyplot as plt\n",
    "from sklearn.model_selection import train_test_split\n",
    "from sklearn.naive_bayes import MultinomialNB\n",
    "from sklearn.linear_model import LogisticRegression\n",
    "from sklearn.ensemble import RandomForestClassifier\n",
    "from sklearn.svm import LinearSVC\n",
    "from sklearn.model_selection import cross_val_score\n",
    "from sklearn.metrics import confusion_matrix\n",
    "from sklearn import metrics"
   ]
  },
  {
   "cell_type": "code",
   "execution_count": 166,
   "metadata": {},
   "outputs": [
    {
     "data": {
      "text/plain": [
       "883"
      ]
     },
     "execution_count": 166,
     "metadata": {},
     "output_type": "execute_result"
    }
   ],
   "source": [
    "training_data = pd.read_csv(\"2_training_testing_80/New_training_data_19Jan2021_r.csv\",sep=',',header=0)\n",
    "testing_data = pd.read_csv(\"2_training_testing_80/new_Test_data_19Jan.csv\",sep=',',header=0)\n",
    "len(training_data)"
   ]
  },
  {
   "cell_type": "code",
   "execution_count": 167,
   "metadata": {},
   "outputs": [
    {
     "name": "stdout",
     "output_type": "stream",
     "text": [
      "     Gender  Race  Ethnic Group    Encounter       Reason1       Reason2  \\\n",
      "0         1   0.0             1     57304086 -7.820000e-16  2.050000e-09   \n",
      "1         0   0.0             0     59464001 -8.640000e-18  1.160000e-10   \n",
      "2         1   1.0             0    306885119 -3.340000e-16  2.760000e-09   \n",
      "3         1   1.0             0    843895334 -1.130000e-16  1.300000e-09   \n",
      "4         0   1.0             0    964184337  5.560000e-17 -1.190000e-09   \n",
      "..      ...   ...           ...          ...           ...           ...   \n",
      "878       0   1.0             2  43280473142 -1.010000e-17 -4.370000e-12   \n",
      "879       0   0.0             0  43600834323  1.000000e+00  1.450000e-15   \n",
      "880       0   1.0             0  44604273292  3.800000e-17 -4.150000e-12   \n",
      "881       0   0.0             0  46328314129  7.280000e-17 -1.850000e-11   \n",
      "882       1   0.0             0  46642834260  1.000000e+00  1.450000e-15   \n",
      "\n",
      "          Reason3       Reason4       Reason5       Reason6       Reason7  \\\n",
      "0    4.910000e-03  1.800000e-02  2.390000e-03  4.740000e-01  3.640000e-02   \n",
      "1   -1.240000e-07 -5.670000e-07  8.990000e-07  6.690000e-07 -2.240000e-06   \n",
      "2    1.650000e-02  1.400000e-01  1.860000e-01 -1.910000e-02  1.300000e-01   \n",
      "3    6.560000e-01 -2.150000e-01  9.140000e-02 -5.680000e-03  5.800000e-02   \n",
      "4    9.900000e-03  3.780000e-01  8.710000e-01 -1.700000e-02 -1.340000e-01   \n",
      "..            ...           ...           ...           ...           ...   \n",
      "878  3.390000e-04  4.030000e-04 -1.010000e-05 -2.680000e-04  9.030000e-05   \n",
      "879  5.850000e-20 -1.390000e-19 -1.670000e-19 -1.300000e-18  1.960000e-18   \n",
      "880 -2.130000e-06 -6.860000e-06  2.100000e-05  1.440000e-06 -6.450000e-05   \n",
      "881  5.910000e-04  6.420000e-04  7.590000e-05 -4.400000e-04 -7.040000e-05   \n",
      "882  5.850000e-20 -1.390000e-19 -1.670000e-19 -1.300000e-18  1.960000e-18   \n",
      "\n",
      "          Reason8       Reason9      Reason10      Reason11      Reason12  \\\n",
      "0   -8.830000e-02  2.230000e-03 -1.370000e-03  2.210000e-03  5.500000e-02   \n",
      "1    5.130000e-06 -3.720000e-06 -6.840000e-06  1.940000e-05 -3.300000e-05   \n",
      "2    9.920000e-05  3.150000e-01 -7.670000e-02  4.840000e-03 -6.970000e-04   \n",
      "3    9.900000e-04 -2.780000e-02  3.020000e-02 -3.840000e-03  6.220000e-03   \n",
      "4   -1.610000e-03 -1.040000e-01  2.470000e-02 -2.000000e-03  2.630000e-03   \n",
      "..            ...           ...           ...           ...           ...   \n",
      "878 -3.610000e-02 -4.090000e-04  6.370000e-01  7.030000e-01  7.360000e-04   \n",
      "879 -6.580000e-19  1.220000e-19  4.470000e-19  7.540000e-19 -7.720000e-19   \n",
      "880  1.430000e-04  3.230000e-04 -8.030000e-05  2.210000e-04 -3.010000e-04   \n",
      "881  1.860000e-01  9.290000e-04  2.920000e-02 -1.860000e-02 -4.630000e-03   \n",
      "882 -6.580000e-19  1.220000e-19  4.470000e-19  7.540000e-19 -7.720000e-19   \n",
      "\n",
      "         Reason13      Reason14      Reason15      Reason16      Reason17  \\\n",
      "0   -1.620000e-01  6.550000e-02 -3.040000e-01 -3.040000e-03  9.610000e-03   \n",
      "1   -1.260000e-04 -7.580000e-05 -3.480000e-06 -6.080000e-06 -9.760000e-06   \n",
      "2    4.960000e-03  5.310000e-03 -8.430000e-02  3.640000e-02  6.160000e-02   \n",
      "3    3.230000e-02 -9.870000e-03 -3.440000e-02  5.090000e-01  8.190000e-02   \n",
      "4   -1.500000e-02  3.190000e-03 -5.350000e-03 -8.180000e-03 -1.310000e-02   \n",
      "..            ...           ...           ...           ...           ...   \n",
      "878  6.990000e-04  2.890000e-04 -7.910000e-04 -8.640000e-03 -5.840000e-03   \n",
      "879  3.700000e-19  4.260000e-19 -1.860000e-18  7.620000e-19  1.100000e-18   \n",
      "880 -4.780000e-05  1.750000e-04  6.800000e-04 -4.990000e-04 -5.740000e-03   \n",
      "881 -5.450000e-03  1.480000e-02  8.990000e-03  7.230000e-02 -8.380000e-02   \n",
      "882  3.700000e-19  4.260000e-19 -1.860000e-18  7.620000e-19  1.100000e-18   \n",
      "\n",
      "         Reason18      Reason19      Reason20  Class  Age Age_bins  \n",
      "0   -4.820000e-02 -6.180000e-02 -3.360000e-02      0   59        3  \n",
      "1    3.080000e-04 -5.720000e-05  7.290000e-05      0   75        3  \n",
      "2   -1.740000e-01  7.970000e-01 -6.290000e-02      0   79        3  \n",
      "3    4.940000e-02 -1.330000e-02  6.670000e-02      0   45        2  \n",
      "4    1.700000e-03 -1.440000e-01  3.190000e-02      0   55        2  \n",
      "..            ...           ...           ...    ...  ...      ...  \n",
      "878 -1.540000e-03 -5.910000e-03  2.620000e-02      1   65        3  \n",
      "879  1.460000e-18  2.510000e-18  8.600000e-20      1   33        1  \n",
      "880  4.830000e-04  1.110000e-03  8.830000e-05      1   23        1  \n",
      "881 -3.640000e-02 -3.140000e-01  1.480000e-01      1   82        3  \n",
      "882  1.460000e-18  2.510000e-18  8.600000e-20      1   62        3  \n",
      "\n",
      "[883 rows x 27 columns]\n"
     ]
    }
   ],
   "source": [
    "# For training Data\n",
    "bins = [0,15,35,55,96]\n",
    "labels=[0,1,2,3]\n",
    "training_data['Age_bins'] = pd.cut(training_data['Age'], bins=bins, labels=labels, include_lowest=True)\n",
    "print (training_data)"
   ]
  },
  {
   "cell_type": "code",
   "execution_count": 168,
   "metadata": {},
   "outputs": [
    {
     "name": "stdout",
     "output_type": "stream",
     "text": [
      "    Gender  Race  Ethnic Group    Encounter       Reason1       Reason2  \\\n",
      "0        1     1             2    892774098  1.000000e+00  5.660000e-16   \n",
      "1        0     1             2   1930374269  1.000000e+00  5.660000e-16   \n",
      "2        0     0             0   4090293179  1.000000e+00  1.450000e-15   \n",
      "3        0     0             2   5394323197  1.000000e+00  1.450000e-15   \n",
      "4        1     1             0   5903325002  1.000000e+00  1.450000e-15   \n",
      "..     ...   ...           ...          ...           ...           ...   \n",
      "75       1     6             2  50979275303  1.000000e+00  1.450000e-15   \n",
      "76       1     0             0  50998165297  1.000000e+00  5.660000e-16   \n",
      "77       1     0             0  51043285325  1.450000e-16 -3.320000e-10   \n",
      "78       1     0             0  51360305347  1.000000e+00  1.450000e-15   \n",
      "79       0     0             0  51362525349  1.000000e+00  1.450000e-15   \n",
      "\n",
      "         Reason3       Reason4       Reason5       Reason6       Reason7  \\\n",
      "0   2.060000e-16 -9.200000e-17  6.710000e-16 -7.300000e-16 -7.900000e-18   \n",
      "1   3.860000e-17  7.920000e-17 -1.750000e-17  2.080000e-16  1.060000e-17   \n",
      "2   5.850000e-20 -1.390000e-19 -1.670000e-19 -1.300000e-18  1.960000e-18   \n",
      "3   5.850000e-20 -1.390000e-19 -1.670000e-19 -1.300000e-18  1.960000e-18   \n",
      "4   5.850000e-20 -1.390000e-19 -1.670000e-19 -1.300000e-18  1.960000e-18   \n",
      "..           ...           ...           ...           ...           ...   \n",
      "75  5.850000e-20 -1.390000e-19 -1.670000e-19 -1.300000e-18  1.960000e-18   \n",
      "76 -1.630000e-18  4.140000e-20 -2.910000e-18  1.870000e-18 -1.850000e-19   \n",
      "77  7.760000e-02  4.400000e-01 -1.010000e-01 -8.130000e-02  8.650000e-01   \n",
      "78  5.850000e-20 -1.390000e-19 -1.670000e-19 -1.300000e-18  1.960000e-18   \n",
      "79  5.850000e-20 -1.390000e-19 -1.670000e-19 -1.300000e-18  1.960000e-18   \n",
      "\n",
      "         Reason8       Reason9      Reason10      Reason11      Reason12  \\\n",
      "0   9.820000e-16 -3.330000e-16  6.620000e-16 -1.090000e-16  9.510000e-17   \n",
      "1   5.940000e-16 -5.550000e-16  4.400000e-16  1.090000e-16 -3.460000e-16   \n",
      "2  -6.580000e-19  1.220000e-19  4.470000e-19  7.540000e-19 -7.720000e-19   \n",
      "3  -6.580000e-19  1.220000e-19  4.470000e-19  7.540000e-19 -7.720000e-19   \n",
      "4  -6.580000e-19  1.220000e-19  4.470000e-19  7.540000e-19 -7.720000e-19   \n",
      "..           ...           ...           ...           ...           ...   \n",
      "75 -6.580000e-19  1.220000e-19  4.470000e-19  7.540000e-19 -7.720000e-19   \n",
      "76 -5.250000e-18  2.570000e-18 -2.600000e-18 -1.500000e-18 -9.150000e-19   \n",
      "77  3.120000e-03 -8.510000e-02  6.850000e-02 -7.170000e-04  6.080000e-03   \n",
      "78 -6.580000e-19  1.220000e-19  4.470000e-19  7.540000e-19 -7.720000e-19   \n",
      "79 -6.580000e-19  1.220000e-19  4.470000e-19  7.540000e-19 -7.720000e-19   \n",
      "\n",
      "        Reason13      Reason14      Reason15      Reason16      Reason17  \\\n",
      "0   3.920000e-16  3.120000e-16  3.650000e-16 -3.330000e-16 -1.950000e-16   \n",
      "1  -1.880000e-16  1.990000e-16 -5.260000e-16 -9.010000e-17 -1.570000e-16   \n",
      "2   3.700000e-19  4.260000e-19 -1.860000e-18  7.620000e-19  1.100000e-18   \n",
      "3   3.700000e-19  4.260000e-19 -1.860000e-18  7.620000e-19  1.100000e-18   \n",
      "4   3.700000e-19  4.260000e-19 -1.860000e-18  7.620000e-19  1.100000e-18   \n",
      "..           ...           ...           ...           ...           ...   \n",
      "75  3.700000e-19  4.260000e-19 -1.860000e-18  7.620000e-19  1.100000e-18   \n",
      "76 -3.930000e-18  1.850000e-18  3.860000e-18  1.220000e-18 -1.240000e-18   \n",
      "77  2.270000e-02 -8.570000e-03  6.980000e-03 -7.210000e-03 -9.610000e-03   \n",
      "78  3.700000e-19  4.260000e-19 -1.860000e-18  7.620000e-19  1.100000e-18   \n",
      "79  3.700000e-19  4.260000e-19 -1.860000e-18  7.620000e-19  1.100000e-18   \n",
      "\n",
      "        Reason18      Reason19      Reason20  Class  Age Age_bins  \n",
      "0   1.270000e-16 -2.100000e-16 -8.340000e-17      0   61        3  \n",
      "1   3.340000e-16  2.190000e-16  8.180000e-17      0   77        3  \n",
      "2   1.460000e-18  2.510000e-18  8.600000e-20      1   61        3  \n",
      "3   1.460000e-18  2.510000e-18  8.600000e-20      1   76        3  \n",
      "4   1.460000e-18  2.510000e-18  8.600000e-20      1   53        2  \n",
      "..           ...           ...           ...    ...  ...      ...  \n",
      "75  1.460000e-18  2.510000e-18  8.600000e-20      1   71        3  \n",
      "76 -1.650000e-18  5.100000e-18 -6.780000e-18      0   64        3  \n",
      "77  2.520000e-02 -1.270000e-01  3.270000e-02      0   87        3  \n",
      "78  1.460000e-18  2.510000e-18  8.600000e-20      1   65        3  \n",
      "79  1.460000e-18  2.510000e-18  8.600000e-20      1   55        2  \n",
      "\n",
      "[80 rows x 27 columns]\n"
     ]
    }
   ],
   "source": [
    "# For Testing Data\n",
    "bins = [0,15,35,55,96]\n",
    "labels=[0,1,2,3]\n",
    "testing_data['Age_bins'] = pd.cut(testing_data['Age'], bins=bins, labels=labels, include_lowest=True)\n",
    "print (testing_data)"
   ]
  },
  {
   "cell_type": "code",
   "execution_count": 169,
   "metadata": {},
   "outputs": [
    {
     "name": "stdout",
     "output_type": "stream",
     "text": [
      "     Gender  Race  Ethnic Group     Encounter       Reason1       Reason2  \\\n",
      "0       1.0   0.0           1.0  5.730409e+07 -7.820000e-16  2.050000e-09   \n",
      "1       0.0   0.0           0.0  5.946400e+07 -8.640000e-18  1.160000e-10   \n",
      "2       1.0   1.0           0.0  3.068851e+08 -3.340000e-16  2.760000e-09   \n",
      "3       1.0   1.0           0.0  8.438953e+08 -1.130000e-16  1.300000e-09   \n",
      "4       0.0   1.0           0.0  9.641843e+08  5.560000e-17 -1.190000e-09   \n",
      "..      ...   ...           ...           ...           ...           ...   \n",
      "878     0.0   1.0           2.0  4.328047e+10 -1.010000e-17 -4.370000e-12   \n",
      "879     0.0   0.0           0.0  4.360083e+10  1.000000e+00  1.450000e-15   \n",
      "880     0.0   1.0           0.0  4.460427e+10  3.800000e-17 -4.150000e-12   \n",
      "881     0.0   0.0           0.0  4.632831e+10  7.280000e-17 -1.850000e-11   \n",
      "882     1.0   0.0           0.0  4.664283e+10  1.000000e+00  1.450000e-15   \n",
      "\n",
      "          Reason3       Reason4       Reason5       Reason6       Reason7  \\\n",
      "0    4.910000e-03  1.800000e-02  2.390000e-03  4.740000e-01  3.640000e-02   \n",
      "1   -1.240000e-07 -5.670000e-07  8.990000e-07  6.690000e-07 -2.240000e-06   \n",
      "2    1.650000e-02  1.400000e-01  1.860000e-01 -1.910000e-02  1.300000e-01   \n",
      "3    6.560000e-01 -2.150000e-01  9.140000e-02 -5.680000e-03  5.800000e-02   \n",
      "4    9.900000e-03  3.780000e-01  8.710000e-01 -1.700000e-02 -1.340000e-01   \n",
      "..            ...           ...           ...           ...           ...   \n",
      "878  3.390000e-04  4.030000e-04 -1.010000e-05 -2.680000e-04  9.030000e-05   \n",
      "879  5.850000e-20 -1.390000e-19 -1.670000e-19 -1.300000e-18  1.960000e-18   \n",
      "880 -2.130000e-06 -6.860000e-06  2.100000e-05  1.440000e-06 -6.450000e-05   \n",
      "881  5.910000e-04  6.420000e-04  7.590000e-05 -4.400000e-04 -7.040000e-05   \n",
      "882  5.850000e-20 -1.390000e-19 -1.670000e-19 -1.300000e-18  1.960000e-18   \n",
      "\n",
      "          Reason8       Reason9      Reason10      Reason11      Reason12  \\\n",
      "0   -8.830000e-02  2.230000e-03 -1.370000e-03  2.210000e-03  5.500000e-02   \n",
      "1    5.130000e-06 -3.720000e-06 -6.840000e-06  1.940000e-05 -3.300000e-05   \n",
      "2    9.920000e-05  3.150000e-01 -7.670000e-02  4.840000e-03 -6.970000e-04   \n",
      "3    9.900000e-04 -2.780000e-02  3.020000e-02 -3.840000e-03  6.220000e-03   \n",
      "4   -1.610000e-03 -1.040000e-01  2.470000e-02 -2.000000e-03  2.630000e-03   \n",
      "..            ...           ...           ...           ...           ...   \n",
      "878 -3.610000e-02 -4.090000e-04  6.370000e-01  7.030000e-01  7.360000e-04   \n",
      "879 -6.580000e-19  1.220000e-19  4.470000e-19  7.540000e-19 -7.720000e-19   \n",
      "880  1.430000e-04  3.230000e-04 -8.030000e-05  2.210000e-04 -3.010000e-04   \n",
      "881  1.860000e-01  9.290000e-04  2.920000e-02 -1.860000e-02 -4.630000e-03   \n",
      "882 -6.580000e-19  1.220000e-19  4.470000e-19  7.540000e-19 -7.720000e-19   \n",
      "\n",
      "         Reason13      Reason14      Reason15      Reason16      Reason17  \\\n",
      "0   -1.620000e-01  6.550000e-02 -3.040000e-01 -3.040000e-03  9.610000e-03   \n",
      "1   -1.260000e-04 -7.580000e-05 -3.480000e-06 -6.080000e-06 -9.760000e-06   \n",
      "2    4.960000e-03  5.310000e-03 -8.430000e-02  3.640000e-02  6.160000e-02   \n",
      "3    3.230000e-02 -9.870000e-03 -3.440000e-02  5.090000e-01  8.190000e-02   \n",
      "4   -1.500000e-02  3.190000e-03 -5.350000e-03 -8.180000e-03 -1.310000e-02   \n",
      "..            ...           ...           ...           ...           ...   \n",
      "878  6.990000e-04  2.890000e-04 -7.910000e-04 -8.640000e-03 -5.840000e-03   \n",
      "879  3.700000e-19  4.260000e-19 -1.860000e-18  7.620000e-19  1.100000e-18   \n",
      "880 -4.780000e-05  1.750000e-04  6.800000e-04 -4.990000e-04 -5.740000e-03   \n",
      "881 -5.450000e-03  1.480000e-02  8.990000e-03  7.230000e-02 -8.380000e-02   \n",
      "882  3.700000e-19  4.260000e-19 -1.860000e-18  7.620000e-19  1.100000e-18   \n",
      "\n",
      "         Reason18      Reason19      Reason20  Class   Age  Age_bins  \n",
      "0   -4.820000e-02 -6.180000e-02 -3.360000e-02    0.0  59.0       3.0  \n",
      "1    3.080000e-04 -5.720000e-05  7.290000e-05    0.0  75.0       3.0  \n",
      "2   -1.740000e-01  7.970000e-01 -6.290000e-02    0.0  79.0       3.0  \n",
      "3    4.940000e-02 -1.330000e-02  6.670000e-02    0.0  45.0       2.0  \n",
      "4    1.700000e-03 -1.440000e-01  3.190000e-02    0.0  55.0       2.0  \n",
      "..            ...           ...           ...    ...   ...       ...  \n",
      "878 -1.540000e-03 -5.910000e-03  2.620000e-02    1.0  65.0       3.0  \n",
      "879  1.460000e-18  2.510000e-18  8.600000e-20    1.0  33.0       1.0  \n",
      "880  4.830000e-04  1.110000e-03  8.830000e-05    1.0  23.0       1.0  \n",
      "881 -3.640000e-02 -3.140000e-01  1.480000e-01    1.0  82.0       3.0  \n",
      "882  1.460000e-18  2.510000e-18  8.600000e-20    1.0  62.0       3.0  \n",
      "\n",
      "[880 rows x 27 columns]\n"
     ]
    }
   ],
   "source": [
    "def clean_dataset(df):\n",
    "    assert isinstance(df, pd.DataFrame), \"df needs to be a pd.DataFrame\"\n",
    "    df.dropna(inplace=True)\n",
    "    indices_to_keep = ~df.isin([np.nan, np.inf, -np.inf]).any(1)\n",
    "    return df[indices_to_keep].astype(np.float64)\n",
    "\n",
    "training_data = clean_dataset(training_data)\n",
    "testing_data = clean_dataset(testing_data)\n",
    "print (training_data)"
   ]
  },
  {
   "cell_type": "code",
   "execution_count": 170,
   "metadata": {},
   "outputs": [],
   "source": [
    "# Save fresh \"training_data\" and \"testing_data\" data after cleaning\n",
    "#training_data.to_csv(\"3_cleaned_training_testing_data_after_scoring/training_data.csv\")\n",
    "#testing_data.to_csv(\"3_cleaned_training_testing_data_after_scoring/testing_data.csv\")"
   ]
  },
  {
   "cell_type": "code",
   "execution_count": 171,
   "metadata": {},
   "outputs": [],
   "source": [
    "X_train = training_data[['Gender','Race','Ethnic Group','Age_bins', 'Reason1','Reason2','Reason3','Reason4','Reason5','Reason6',\n",
    "        'Reason7','Reason8','Reason9','Reason10','Reason11','Reason12', 'Reason13','Reason14','Reason15','Reason16',\n",
    "         'Reason17','Reason18', 'Reason19','Reason20']]\n",
    "#X_train = training_data[['Gender','Race','Ethnic Group','Age_bins']]\n",
    "y_train = training_data['Class']\n",
    "X_test = testing_data[['Gender','Race','Ethnic Group','Age_bins', 'Reason1','Reason2','Reason3','Reason4','Reason5','Reason6',\n",
    "        'Reason7','Reason8','Reason9','Reason10','Reason11','Reason12', 'Reason13','Reason14','Reason15','Reason16',\n",
    "         'Reason17','Reason18', 'Reason19','Reason20']]\n",
    "#X_test = testing_data[['Gender','Race','Ethnic Group','Age_bins']]\n",
    "y_test = testing_data['Class']"
   ]
  },
  {
   "cell_type": "code",
   "execution_count": 172,
   "metadata": {},
   "outputs": [
    {
     "name": "stderr",
     "output_type": "stream",
     "text": [
      "/Library/Frameworks/Python.framework/Versions/3.7/lib/python3.7/site-packages/sklearn/svm/_base.py:947: ConvergenceWarning: Liblinear failed to converge, increase the number of iterations.\n",
      "  \"the number of iterations.\", ConvergenceWarning)\n",
      "/Library/Frameworks/Python.framework/Versions/3.7/lib/python3.7/site-packages/sklearn/svm/_base.py:947: ConvergenceWarning: Liblinear failed to converge, increase the number of iterations.\n",
      "  \"the number of iterations.\", ConvergenceWarning)\n",
      "/Library/Frameworks/Python.framework/Versions/3.7/lib/python3.7/site-packages/sklearn/svm/_base.py:947: ConvergenceWarning: Liblinear failed to converge, increase the number of iterations.\n",
      "  \"the number of iterations.\", ConvergenceWarning)\n",
      "/Library/Frameworks/Python.framework/Versions/3.7/lib/python3.7/site-packages/sklearn/svm/_base.py:947: ConvergenceWarning: Liblinear failed to converge, increase the number of iterations.\n",
      "  \"the number of iterations.\", ConvergenceWarning)\n",
      "/Library/Frameworks/Python.framework/Versions/3.7/lib/python3.7/site-packages/sklearn/svm/_base.py:947: ConvergenceWarning: Liblinear failed to converge, increase the number of iterations.\n",
      "  \"the number of iterations.\", ConvergenceWarning)\n",
      "/Library/Frameworks/Python.framework/Versions/3.7/lib/python3.7/site-packages/sklearn/svm/_base.py:947: ConvergenceWarning: Liblinear failed to converge, increase the number of iterations.\n",
      "  \"the number of iterations.\", ConvergenceWarning)\n",
      "/Library/Frameworks/Python.framework/Versions/3.7/lib/python3.7/site-packages/sklearn/svm/_base.py:947: ConvergenceWarning: Liblinear failed to converge, increase the number of iterations.\n",
      "  \"the number of iterations.\", ConvergenceWarning)\n",
      "/Library/Frameworks/Python.framework/Versions/3.7/lib/python3.7/site-packages/sklearn/svm/_base.py:947: ConvergenceWarning: Liblinear failed to converge, increase the number of iterations.\n",
      "  \"the number of iterations.\", ConvergenceWarning)\n",
      "/Library/Frameworks/Python.framework/Versions/3.7/lib/python3.7/site-packages/sklearn/svm/_base.py:947: ConvergenceWarning: Liblinear failed to converge, increase the number of iterations.\n",
      "  \"the number of iterations.\", ConvergenceWarning)\n",
      "/Library/Frameworks/Python.framework/Versions/3.7/lib/python3.7/site-packages/sklearn/svm/_base.py:947: ConvergenceWarning: Liblinear failed to converge, increase the number of iterations.\n",
      "  \"the number of iterations.\", ConvergenceWarning)\n"
     ]
    }
   ],
   "source": [
    "models = [\n",
    "    RandomForestClassifier(n_estimators=100, max_depth=30, random_state=391),\n",
    "    LinearSVC(),\n",
    "    LogisticRegression(random_state=45)]\n",
    "\n",
    "# 10 fold Cross-validation\n",
    "CV = 10\n",
    "cv_df = pd.DataFrame(index=range(CV * len(models)))\n",
    "\n",
    "entries = []\n",
    "for model in models:\n",
    "  model_name = model.__class__.__name__\n",
    "  accuracies = cross_val_score(model, X_train, y_train, scoring='accuracy', cv=CV)\n",
    "  for fold_idx, accuracy in enumerate(accuracies):\n",
    "    entries.append((model_name, fold_idx, accuracy))\n",
    "    \n",
    "cv_df = pd.DataFrame(entries, columns=['model_name', 'fold_idx', 'accuracy'])"
   ]
  },
  {
   "cell_type": "code",
   "execution_count": 173,
   "metadata": {
    "scrolled": true
   },
   "outputs": [
    {
     "data": {
      "text/html": [
       "<div>\n",
       "<style scoped>\n",
       "    .dataframe tbody tr th:only-of-type {\n",
       "        vertical-align: middle;\n",
       "    }\n",
       "\n",
       "    .dataframe tbody tr th {\n",
       "        vertical-align: top;\n",
       "    }\n",
       "\n",
       "    .dataframe thead th {\n",
       "        text-align: right;\n",
       "    }\n",
       "</style>\n",
       "<table border=\"1\" class=\"dataframe\">\n",
       "  <thead>\n",
       "    <tr style=\"text-align: right;\">\n",
       "      <th></th>\n",
       "      <th>Mean Accuracy</th>\n",
       "      <th>Standard deviation</th>\n",
       "    </tr>\n",
       "    <tr>\n",
       "      <th>model_name</th>\n",
       "      <th></th>\n",
       "      <th></th>\n",
       "    </tr>\n",
       "  </thead>\n",
       "  <tbody>\n",
       "    <tr>\n",
       "      <th>LinearSVC</th>\n",
       "      <td>0.521591</td>\n",
       "      <td>0.050947</td>\n",
       "    </tr>\n",
       "    <tr>\n",
       "      <th>LogisticRegression</th>\n",
       "      <td>0.528409</td>\n",
       "      <td>0.052281</td>\n",
       "    </tr>\n",
       "    <tr>\n",
       "      <th>RandomForestClassifier</th>\n",
       "      <td>0.754545</td>\n",
       "      <td>0.062975</td>\n",
       "    </tr>\n",
       "  </tbody>\n",
       "</table>\n",
       "</div>"
      ],
      "text/plain": [
       "                        Mean Accuracy  Standard deviation\n",
       "model_name                                               \n",
       "LinearSVC                    0.521591            0.050947\n",
       "LogisticRegression           0.528409            0.052281\n",
       "RandomForestClassifier       0.754545            0.062975"
      ]
     },
     "execution_count": 173,
     "metadata": {},
     "output_type": "execute_result"
    }
   ],
   "source": [
    "mean_accuracy = cv_df.groupby('model_name').accuracy.mean()\n",
    "std_accuracy = cv_df.groupby('model_name').accuracy.std()\n",
    "\n",
    "acc = pd.concat([mean_accuracy, std_accuracy], axis= 1, \n",
    "          ignore_index=True)\n",
    "acc.columns = ['Mean Accuracy', 'Standard deviation']\n",
    "acc"
   ]
  },
  {
   "cell_type": "code",
   "execution_count": 174,
   "metadata": {},
   "outputs": [
    {
     "data": {
      "image/png": "[encoded data removed]",
      "text/plain": [
       "<Figure size 576x360 with 1 Axes>"
      ]
     },
     "metadata": {
      "needs_background": "light"
     },
     "output_type": "display_data"
    }
   ],
   "source": [
    "plt.figure(figsize=(8,5))\n",
    "sns.boxplot(x='model_name', y='accuracy', \n",
    "            data=cv_df, \n",
    "            color='lightblue', \n",
    "            showmeans=True)\n",
    "plt.title(\"MEAN ACCURACY (cv = 10)\\n\", size=14);"
   ]
  },
  {
   "cell_type": "code",
   "execution_count": 175,
   "metadata": {},
   "outputs": [],
   "source": [
    "# Save raw results Box Plot\n",
    "cv_df.to_csv(\"Box_plot/Sensor_data_demographic_comorbidity_box_plot.csv\")"
   ]
  },
  {
   "cell_type": "code",
   "execution_count": 176,
   "metadata": {},
   "outputs": [
    {
     "data": {
      "text/plain": [
       "array([0., 0., 0., 0., 1., 0., 0., 1., 0., 0., 0., 0., 1., 0., 0., 0., 0.,\n",
       "       0., 0., 1., 0., 0., 0., 0., 0., 1., 0., 1., 0., 1., 1., 0., 1., 1.,\n",
       "       0., 0., 1., 1., 1., 1., 1., 0., 0., 1., 1., 0., 0., 1., 1., 0., 0.,\n",
       "       0., 0., 0., 0., 0., 1., 0., 1., 1., 0., 0., 1., 1., 1., 0., 1., 0.,\n",
       "       1., 0., 0., 1., 0., 0., 0., 1., 0., 0., 0., 0.])"
      ]
     },
     "execution_count": 176,
     "metadata": {},
     "output_type": "execute_result"
    }
   ],
   "source": [
    "#model = LinearSVC()\n",
    "#model = LogisticRegression(random_state=45)\n",
    "model = RandomForestClassifier(n_estimators=100, max_depth=30, random_state=0)\n",
    "model.fit(X_train, y_train)\n",
    "y_pred = model.predict(X_test)\n",
    "y_pred"
   ]
  },
  {
   "cell_type": "code",
   "execution_count": 177,
   "metadata": {},
   "outputs": [
    {
     "data": {
      "image/png": "[encoded data removed]",
      "text/plain": [
       "<Figure size 576x576 with 2 Axes>"
      ]
     },
     "metadata": {
      "needs_background": "light"
     },
     "output_type": "display_data"
    }
   ],
   "source": [
    "conf_mat = confusion_matrix(y_test, y_pred)\n",
    "fig, ax = plt.subplots(figsize=(8,8))\n",
    "sns.heatmap(conf_mat, annot=True, cmap=\"Blues\", fmt='d')\n",
    "plt.ylabel('Actual')\n",
    "plt.xlabel('Predicted')\n",
    "#plt.title(\"CONFUSION MATRIX - Logistic Regression\\n\", size=16);\n",
    "plt.title(\"CONFUSION MATRIX - Random Forest \\n\", size=16);"
   ]
  },
  {
   "cell_type": "code",
   "execution_count": 178,
   "metadata": {},
   "outputs": [],
   "source": [
    "# Save raw results Confusion Matrix\n",
    "conf_scores_csv = pd.DataFrame({\"y_test\" : y_test, \"y_pred\" : y_pred})\n",
    "conf_scores_csv.to_csv(\"Confusion_matrix/Sensor_data_classification_demographic_comorbidity.csv\", index=False)"
   ]
  },
  {
   "cell_type": "code",
   "execution_count": 179,
   "metadata": {},
   "outputs": [
    {
     "name": "stdout",
     "output_type": "stream",
     "text": [
      "              precision    recall  f1-score   support\n",
      "\n",
      "      Sepsis       0.71      0.90      0.79        40\n",
      "   NonSepsis       0.86      0.62      0.72        40\n",
      "\n",
      "    accuracy                           0.76        80\n",
      "   macro avg       0.78      0.76      0.76        80\n",
      "weighted avg       0.78      0.76      0.76        80\n",
      "\n"
     ]
    }
   ],
   "source": [
    "from sklearn.metrics import classification_report\n",
    "target_names = ['Sepsis', 'NonSepsis']\n",
    "print(classification_report(y_test, y_pred, target_names=target_names))"
   ]
  },
  {
   "cell_type": "code",
   "execution_count": 180,
   "metadata": {},
   "outputs": [],
   "source": [
    "# For Random Forest and Logistoc Regression\n",
    "Pred_score = model.predict_proba(X_train)\n",
    "len(Pred_score)\n",
    "res = pd.DataFrame(Pred_score)\n",
    "res.index = X_train.index # its important for comparison\n",
    "res.columns = [\"Sepsis\",\"Non-Sepsis\"]\n",
    "res.to_csv(\"Sensor_data_Train_scores_demographic_comorbidity.csv\")\n",
    "#res.to_csv(\"lateFusion_results_4hr_36000samples_1Dec.csv\")"
   ]
  },
  {
   "cell_type": "code",
   "execution_count": 181,
   "metadata": {},
   "outputs": [],
   "source": [
    "# For Random Forest and Logistoc Regression\n",
    "Pred_score = model.predict_proba(X_test)\n",
    "len(Pred_score)\n",
    "res = pd.DataFrame(Pred_score)\n",
    "res.index = X_test.index # its important for comparison\n",
    "res.columns = [\"Sepsis\",\"Non-Sepsis\"]\n",
    "res.to_csv(\"Sensor_data_Test_scores_demographic_comorbidity.csv\")\n",
    "#res.to_csv(\"lateFusion_results_4hr_36000samples_1Dec.csv\")"
   ]
  },
  {
   "cell_type": "code",
   "execution_count": 223,
   "metadata": {},
   "outputs": [
    {
     "name": "stdout",
     "output_type": "stream",
     "text": [
      "80\n"
     ]
    }
   ],
   "source": [
    "#For Linear SVC\n",
    "from sklearn import svm\n",
    "clf=svm.LinearSVC()\n",
    "clf.fit(X_train, y_train)\n",
    "Pred_score= clf._predict_proba_lr(X_test)\n",
    "print(len(Pred_score))\n",
    "res = pd.DataFrame(Pred_score)\n",
    "res.index = X_test.index # its important for comparison\n",
    "res.columns = [\"Sepsis_monjoy\",\"Non-Sepsis_monjoy\"]\n",
    "res.to_csv(\"lateFusion_results_6hr_17Dec.csv\")\n",
    "#res.to_csv(\"lateFusion_results_4hr_9000samples_1Dec.csv\")"
   ]
  }
 ],
 "metadata": {
  "kernelspec": {
   "display_name": "Python 3 (ipykernel)",
   "language": "python",
   "name": "python3"
  },
  "language_info": {
   "codemirror_mode": {
    "name": "ipython",
    "version": 3
   },
   "file_extension": ".py",
   "mimetype": "text/x-python",
   "name": "python",
   "nbconvert_exporter": "python",
   "pygments_lexer": "ipython3",
   "version": "3.8.2"
  }
 },
 "nbformat": 4,
 "nbformat_minor": 2
}
